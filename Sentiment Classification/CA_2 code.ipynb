{
  "nbformat": 4,
  "nbformat_minor": 0,
  "metadata": {
    "colab": {
      "provenance": []
    },
    "kernelspec": {
      "name": "python3",
      "display_name": "Python 3"
    },
    "language_info": {
      "name": "python"
    }
  },
  "cells": [
    {
      "cell_type": "code",
      "execution_count": 18,
      "metadata": {
        "colab": {
          "base_uri": "https://localhost:8080/"
        },
        "id": "HdaZ8qROa1I9",
        "outputId": "2527ba0d-f078-440f-ecde-ecb6546e8251"
      },
      "outputs": [
        {
          "output_type": "stream",
          "name": "stderr",
          "text": [
            "[nltk_data] Downloading package punkt to /root/nltk_data...\n",
            "[nltk_data]   Package punkt is already up-to-date!\n",
            "[nltk_data] Downloading package stopwords to /root/nltk_data...\n",
            "[nltk_data]   Package stopwords is already up-to-date!\n",
            "[nltk_data] Downloading package omw-1.4 to /root/nltk_data...\n",
            "[nltk_data]   Package omw-1.4 is already up-to-date!\n",
            "[nltk_data] Downloading package wordnet to /root/nltk_data...\n",
            "[nltk_data]   Package wordnet is already up-to-date!\n"
          ]
        },
        {
          "output_type": "stream",
          "name": "stdout",
          "text": [
            "Printing top 5 rows of dataframe showing original and cleaned tweets....\n",
            "                                                                                                                                       Review  \\\n",
            "0  This deodorant is a game-changer! The refreshing scent lasts all day, keeping me confident. It's my go-to for staying fresh and odor-free.   \n",
            "1                 Absolute freshness in a bottle! This deodorant's long-lasting protection and pleasant fragrance make it my daily essential.   \n",
            "2                  Say goodbye to sweat worries! This deodorant keeps me dry and smelling fantastic. A reliable choice for all-day freshness.   \n",
            "3            Embrace confidence with this deodorant! The invigorating scent and effective protection make it a must-have in my daily routine.   \n",
            "4                              Unbeatable freshness! This deodorant's crisp scent and 24-hour protection keep me feeling clean and confident.   \n",
            "\n",
            "                                                                                                       Cleaned_TEXT  \n",
            "0      [deodorant, game, changer, refreshing, scent, last, day, keeping, confident, go, staying, fresh, odor, free]  \n",
            "1  [absolute, freshness, bottle, deodorant, long, lasting, protection, pleasant, fragrance, make, daily, essential]  \n",
            "2         [say, goodbye, sweat, worry, deodorant, keep, dry, smelling, fantastic, reliable, choice, day, freshness]  \n",
            "3          [embrace, confidence, deodorant, invigorating, scent, effective, protection, make, must, daily, routine]  \n",
            "4               [unbeatable, freshness, deodorant, crisp, scent, hour, protection, keep, feeling, clean, confident]  \n"
          ]
        }
      ],
      "source": [
        "#importing libraries\n",
        "#download nltk packages\n",
        "import re, nltk\n",
        "nltk.download('punkt')\n",
        "nltk.download('stopwords')\n",
        "nltk.download('omw-1.4')\n",
        "nltk.download('wordnet')\n",
        "import numpy as np\n",
        "import pandas as pd\n",
        "from bs4 import BeautifulSoup\n",
        "from nltk.stem import WordNetLemmatizer\n",
        "from nltk.corpus import stopwords\n",
        "from sklearn.feature_extraction.text import TfidfVectorizer\n",
        "from sklearn.model_selection import StratifiedKFold\n",
        "from sklearn import metrics\n",
        "from sklearn.svm import LinearSVC\n",
        "from sklearn.naive_bayes import MultinomialNB\n",
        "import joblib\n",
        "\n",
        "#reading labelled dataset\n",
        "df = pd.read_csv(\"/content/Labelled_Dataset.csv\")\n",
        "#Endcoding\n",
        "df['Label']=df['Label'].map({'Positive':1,'Negative':0})\n",
        "pd.set_option('display.max_colwidth', None)\n",
        "pd.set_option('display.max_columns', None)\n",
        "\n",
        "def cleaner(TEXT):\n",
        "    soup = BeautifulSoup(TEXT, 'lxml')\n",
        "    souped = soup.get_text()\n",
        "    re1 = re.sub(r\"(@|http://|https://|www|\\\\x)\\S*\", \" \", souped)\n",
        "    re2 = re.sub(\"[^A-Za-z]+\",\" \", re1)\n",
        "\n",
        "    tokens = nltk.word_tokenize(re2)\n",
        "    lower_case = [t.lower() for t in tokens]\n",
        "\n",
        "    stop_words = set(stopwords.words('english'))\n",
        "    filtered_result = list(filter(lambda l: l not in stop_words, lower_case))\n",
        "\n",
        "    wordnet_lemmatizer = WordNetLemmatizer()\n",
        "    lemmas = [wordnet_lemmatizer.lemmatize(t) for t in filtered_result]\n",
        "    return lemmas\n",
        "\n",
        "df['Cleaned_TEXT'] = df.Review.apply(cleaner)\n",
        "df = df[df['Cleaned_TEXT'].map(len) > 0]\n",
        "print(\"Printing top 5 rows of dataframe showing original and cleaned tweets....\")\n",
        "print(df[['Review','Cleaned_TEXT']].head())\n",
        "df.drop(['Review'], axis=1, inplace=True)\n",
        "\n",
        "df.to_csv('CA_2.csv', index=False)\n"
      ]
    },
    {
      "cell_type": "code",
      "source": [
        "df.to_csv('CA_2.csv', index=False)\n",
        "df['Cleaned_TEXT'] = [\" \".join(row) for row in df['Cleaned_TEXT'].values]\n",
        "data = df['Cleaned_TEXT']\n",
        "Y = df['Label']\n",
        "tfidf = TfidfVectorizer(min_df=.015, ngram_range=(1,3))\n",
        "tfidf.fit(data)\n",
        "data_tfidf = tfidf.transform(data)\n",
        "pd.DataFrame(pd.Series(tfidf.get_feature_names_out())).to_csv('Vocab.csv', header=False, index=False)\n",
        "print(\"Shape of tfidf matrix: \", data_tfidf.shape)\n"
      ],
      "metadata": {
        "colab": {
          "base_uri": "https://localhost:8080/"
        },
        "id": "nUtzKVYhb4Sl",
        "outputId": "eda305c3-af56-40f0-f76b-888c20b26630"
      },
      "execution_count": 19,
      "outputs": [
        {
          "output_type": "stream",
          "name": "stdout",
          "text": [
            "Shape of tfidf matrix:  (1000, 465)\n"
          ]
        }
      ]
    },
    {
      "cell_type": "code",
      "source": [
        "#using linear SVC\n",
        "svc_clf = LinearSVC()\n",
        "kf = StratifiedKFold(n_splits=5, shuffle=True, random_state=1)\n",
        "scores=[]\n",
        "iteration = 0\n",
        "for train_index, test_index in kf.split(data_tfidf, Y):\n",
        "    iteration += 1\n",
        "    print(\"Iteration \", iteration)\n",
        "    X_train, Y_train = data_tfidf[train_index], Y[train_index]\n",
        "    X_test, Y_test = data_tfidf[test_index], Y[test_index]\n",
        "\n",
        "    svc_clf.fit(X_train, Y_train)\n",
        "    Y_pred = svc_clf.predict(X_test)\n",
        "    score = metrics.accuracy_score(Y_test, Y_pred)\n",
        "    print(\"Cross-validation accuracy: \", score)\n",
        "    scores.append(score)\n",
        "svc_mean_accuracy = np.mean(scores)\n",
        "print(\"SVC Mean cross-validation accuracy: \", svc_mean_accuracy)\n",
        "\n",
        "#using multinominalNB\n",
        "nbc_clf = MultinomialNB()\n",
        "kf = StratifiedKFold(n_splits=5, shuffle=True, random_state=1)\n",
        "scores=[]\n",
        "iteration = 0\n",
        "for train_index, test_index in kf.split(data_tfidf, Y):\n",
        "    iteration += 1\n",
        "    print(\"Iteration \", iteration)\n",
        "    X_train, Y_train = data_tfidf[train_index], Y[train_index]\n",
        "    X_test, Y_test = data_tfidf[test_index], Y[test_index]\n",
        "    nbc_clf.fit(X_train, Y_train)\n",
        "    Y_pred = nbc_clf.predict(X_test)\n",
        "    score = metrics.accuracy_score(Y_test, Y_pred)\n",
        "    print(\"Cross-validation accuracy: \", score)\n",
        "    scores.append(score)\n",
        "nbc_mean_accuracy = np.mean(scores)\n",
        "print(\"NBC Mean cross-validation accuracy: \", nbc_mean_accuracy)\n"
      ],
      "metadata": {
        "colab": {
          "base_uri": "https://localhost:8080/"
        },
        "id": "x5bn2og3dCnq",
        "outputId": "759d3a02-9c44-4fbe-984a-bc21922b5fb8"
      },
      "execution_count": 20,
      "outputs": [
        {
          "output_type": "stream",
          "name": "stdout",
          "text": [
            "Iteration  1\n",
            "Cross-validation accuracy:  1.0\n",
            "Iteration  2\n",
            "Cross-validation accuracy:  1.0\n",
            "Iteration  3\n",
            "Cross-validation accuracy:  0.995\n",
            "Iteration  4\n",
            "Cross-validation accuracy:  0.99\n",
            "Iteration  5\n",
            "Cross-validation accuracy:  1.0\n",
            "SVC Mean cross-validation accuracy:  0.9970000000000001\n",
            "Iteration  1\n",
            "Cross-validation accuracy:  1.0\n",
            "Iteration  2\n",
            "Cross-validation accuracy:  0.995\n",
            "Iteration  3\n",
            "Cross-validation accuracy:  1.0\n",
            "Iteration  4\n",
            "Cross-validation accuracy:  1.0\n",
            "Iteration  5\n",
            "Cross-validation accuracy:  0.995\n",
            "NBC Mean cross-validation accuracy:  0.998\n"
          ]
        }
      ]
    },
    {
      "cell_type": "code",
      "source": [
        "#Saving SVC file\n",
        "clf = LinearSVC().fit(data_tfidf, Y)\n",
        "joblib.dump(clf, 'svc.sav')"
      ],
      "metadata": {
        "colab": {
          "base_uri": "https://localhost:8080/"
        },
        "id": "Rz9sC4CZHicl",
        "outputId": "e4e3a6b7-1667-4aba-aad1-e03124c6020b"
      },
      "execution_count": 21,
      "outputs": [
        {
          "output_type": "execute_result",
          "data": {
            "text/plain": [
              "['svc.sav']"
            ]
          },
          "metadata": {},
          "execution_count": 21
        }
      ]
    },
    {
      "cell_type": "code",
      "source": [
        "model = joblib.load('svc.sav')\n",
        "vocabulary = pd.read_csv('Vocab.csv', header=None)\n",
        "vocabulary_dict = {}\n",
        "for i, word in enumerate(vocabulary[0]):\n",
        "      vocabulary_dict[word] = i\n",
        "print(vocabulary_dict)\n",
        "tfidf = TfidfVectorizer(vocabulary = vocabulary_dict,lowercase=False)\n",
        "\n",
        "# Reading new data as dataframe\n",
        "df = pd.read_csv(\"/content/Unlabelled_dataset.csv\")\n",
        "pd.set_option('display.max_colwidth', None)\n",
        "pd.set_option('display.max_columns', None)\n",
        "\n",
        "# Cleaning reviews\n",
        "def cleaner(Review):\n",
        "    soup = BeautifulSoup(Review, 'lxml')\n",
        "    souped = soup.get_text()\n",
        "    re1 = re.sub(r\"(@|http://|https://|www|\\\\x)\\S*\", \" \", souped)\n",
        "    re2 = re.sub(\"[^A-Za-z]+\",\" \", re1)\n",
        "\n",
        "\n",
        "    tokens = nltk.word_tokenize(re2)\n",
        "    lower_case = [t.lower() for t in tokens]\n",
        "\n",
        "    stop_words = set(stopwords.words('english'))\n",
        "    filtered_result = list(filter(lambda l: l not in stop_words, lower_case))\n",
        "\n",
        "    wordnet_lemmatizer = WordNetLemmatizer()\n",
        "    lemmas = [wordnet_lemmatizer.lemmatize(t) for t in filtered_result]\n",
        "    return lemmas\n",
        "\n",
        "df['cleaned_TEXT'] = df.Review.apply(cleaner)\n",
        "df = df[df['cleaned_TEXT'].map(len) > 0]\n",
        "print(\"Original and cleaned reviews\")\n",
        "print(df[['Review','cleaned_TEXT']].head())\n",
        "df['cleaned_TEXT'] = [\" \".join(row) for row in df['cleaned_TEXT'].values]\n",
        "data = df['cleaned_TEXT']\n",
        "tfidf.fit(data)\n",
        "data_tfidf = tfidf.transform(data)\n",
        "y_pred = model.predict(data_tfidf)\n",
        "\n",
        "#Saving predicted ratings to csv\n",
        "df['predicted_Label'] = y_pred.reshape(-1,1)\n",
        "df.to_csv('predicted_Label.csv', index=False)"
      ],
      "metadata": {
        "colab": {
          "base_uri": "https://localhost:8080/"
        },
        "id": "KvJTvGOtIUNZ",
        "outputId": "9a7c41d0-ee19-4fb3-91fc-5a39e5ec301a"
      },
      "execution_count": 22,
      "outputs": [
        {
          "output_type": "stream",
          "name": "stdout",
          "text": [
            "{'absolute': 0, 'absolute essential': 1, 'absolute essential staying': 2, 'active': 3, 'active lifestyle': 4, 'adventure': 5, 'advertised': 6, 'ally': 7, 'ally confidently': 8, 'ally confidently conquering': 9, 'application': 10, 'application deodorant': 11, 'application deodorant clean': 12, 'armpit': 13, 'aroma': 14, 'aroma effective': 15, 'aroma effective hour': 16, 'aroma hour': 17, 'aroma hour protection': 18, 'around': 19, 'artificial': 20, 'awful': 21, 'beauty': 22, 'beauty ritual': 23, 'booster': 24, 'booster bottle': 25, 'booster bottle deodorant': 26, 'bottle': 27, 'bottle deodorant': 28, 'bottle deodorant delightful': 29, 'breeze': 30, 'breeze every': 31, 'breeze every day': 32, 'bursting': 33, 'bursting confidence': 34, 'bursting confidence deodorant': 35, 'caused': 36, 'caused skin': 37, 'causing': 38, 'cheap': 39, 'cheap deodorant': 40, 'chemical': 41, 'choice': 42, 'choice feeling': 43, 'choice feeling confidently': 44, 'clean': 45, 'clean aroma': 46, 'clean aroma effective': 47, 'clean aroma hour': 48, 'clothes': 49, 'companion': 50, 'complete': 51, 'complete waste': 52, 'complete waste money': 53, 'composed': 54, 'composed ensuring': 55, 'composed ensuring stay': 56, 'confidence': 57, 'confidence booster': 58, 'confidence booster bottle': 59, 'confidence clean': 60, 'confidence clean aroma': 61, 'confidence deodorant': 62, 'confidence deodorant fresh': 63, 'confidence deodorant gentle': 64, 'confidence every': 65, 'confidence every application': 66, 'confidence game': 67, 'confidence game deodorant': 68, 'confidence max': 69, 'confidence max refreshing': 70, 'confident': 71, 'confident active': 72, 'confident active lifestyle': 73, 'confidently': 74, 'confidently active': 75, 'confidently breeze': 76, 'confidently breeze every': 77, 'confidently composed': 78, 'confidently composed ensuring': 79, 'confidently conquering': 80, 'confidently conquering day': 81, 'confidently energized': 82, 'confidently energized odor': 83, 'confidently fresh': 84, 'confidently fresh making': 85, 'confidently navigating': 86, 'confidently navigating life': 87, 'confidently odor': 88, 'confidently odor free': 89, 'conquering': 90, 'conquering day': 91, 'control': 92, 'control perspiration': 93, 'control perspiration making': 94, 'daily': 95, 'daily beauty': 96, 'daily beauty ritual': 97, 'daily choice': 98, 'daily choice feeling': 99, 'daily dose': 100, 'daily dose confidence': 101, 'daily essential': 102, 'daily go': 103, 'daily go staying': 104, 'daily necessity': 105, 'daily necessity confidently': 106, 'day': 107, 'delightful': 108, 'delightful fragrance': 109, 'delightful fragrance reliable': 110, 'delightful scent': 111, 'deodorant': 112, 'deodorant caused': 113, 'deodorant choice': 114, 'deodorant clean': 115, 'deodorant clean aroma': 116, 'deodorant complete': 117, 'deodorant delightful': 118, 'deodorant delightful fragrance': 119, 'deodorant disaster': 120, 'deodorant ensure': 121, 'deodorant ensure confidently': 122, 'deodorant fresh': 123, 'deodorant fresh scent': 124, 'deodorant gentle': 125, 'deodorant gentle formula': 126, 'deodorant incredibly': 127, 'deodorant invigorating': 128, 'deodorant invigorating scent': 129, 'deodorant make': 130, 'deodorant make daily': 131, 'deodorant make trusted': 132, 'deodorant regret': 133, 'deodorant scent': 134, 'deodorant subtle': 135, 'deodorant subtle fragrance': 136, 'designed': 137, 'difficult': 138, 'disappointment': 139, 'disaster': 140, 'dissatisfied': 141, 'dose': 142, 'dose confidence': 143, 'dose confidence deodorant': 144, 'dry': 145, 'dry smelling': 146, 'effective': 147, 'effective hour': 148, 'effective hour protection': 149, 'effective protection': 150, 'elevate': 151, 'elevate confidence': 152, 'elevate confidence game': 153, 'embarrassing': 154, 'enduring': 155, 'enduring protection': 156, 'enduring protection deodorant': 157, 'enduring protection make': 158, 'energized': 159, 'energized odor': 160, 'energized odor free': 161, 'ensure': 162, 'ensure confidently': 163, 'ensure confidently breeze': 164, 'ensure stay': 165, 'ensure stay confidently': 166, 'ensuring': 167, 'ensuring stay': 168, 'ensuring stay fresh': 169, 'essential': 170, 'essential maintaining': 171, 'essential maintaining confidently': 172, 'essential staying': 173, 'essential staying fresh': 174, 'even': 175, 'every': 176, 'every application': 177, 'every application deodorant': 178, 'every day': 179, 'every spray': 180, 'every spray deodorant': 181, 'everywhere': 182, 'failed': 183, 'failed control': 184, 'failed control perspiration': 185, 'failed provide': 186, 'failed provide effective': 187, 'failed provide lasting': 188, 'feel': 189, 'feeling': 190, 'feeling confidently': 191, 'feeling confidently energized': 192, 'feeling fresh': 193, 'feeling sticky': 194, 'feeling sticky failed': 195, 'feeling uncomfortable': 196, 'formula': 197, 'formula lasting': 198, 'formula lasting freshness': 199, 'fragrance': 200, 'fragrance enduring': 201, 'fragrance enduring protection': 202, 'fragrance reliable': 203, 'fragrance reliable protection': 204, 'free': 205, 'free day': 206, 'fresh': 207, 'fresh confident': 208, 'fresh confidently': 209, 'fresh confidently active': 210, 'fresh making': 211, 'fresh making daily': 212, 'fresh scent': 213, 'fresh scent long': 214, 'fresh throughout': 215, 'fresh throughout day': 216, 'freshness': 217, 'freshness clean': 218, 'freshness clean aroma': 219, 'freshness deodorant': 220, 'freshness deodorant invigorating': 221, 'freshness leaving': 222, 'freshness make': 223, 'freshness make go': 224, 'freshness unmatched': 225, 'freshness unmatched confidence': 226, 'frustrating': 227, 'game': 228, 'game deodorant': 229, 'game deodorant subtle': 230, 'gentle': 231, 'gentle formula': 232, 'gentle formula lasting': 233, 'get': 234, 'give': 235, 'go': 236, 'go maintaining': 237, 'go maintaining confident': 238, 'go staying': 239, 'go staying fresh': 240, 'greasy': 241, 'headache': 242, 'hour': 243, 'hour protection': 244, 'hour protection deodorant': 245, 'hour protection make': 246, 'incredibly': 247, 'ineffective': 248, 'ingredient': 249, 'intolerable': 250, 'invigorating': 251, 'invigorating scent': 252, 'invigorating scent lasting': 253, 'invisible': 254, 'irresistible': 255, 'irresistible freshness': 256, 'irresistible freshness clean': 257, 'irritated': 258, 'irritating': 259, 'irritation': 260, 'itchy': 261, 'joy': 262, 'joy every': 263, 'joy every spray': 264, 'keep': 265, 'keep confidently': 266, 'keep confidently composed': 267, 'keep feeling': 268, 'keep feeling fresh': 269, 'lasting': 270, 'lasting freshness': 271, 'lasting freshness leaving': 272, 'lasting freshness make': 273, 'lasting power': 274, 'lasting power keep': 275, 'lasting protection': 276, 'lasting protection make': 277, 'leaf': 278, 'leaf white': 279, 'leak': 280, 'leaving': 281, 'leaving feeling': 282, 'leaving feeling uncomfortable': 283, 'left': 284, 'left skin': 285, 'left skin feeling': 286, 'life': 287, 'life adventure': 288, 'lifestyle': 289, 'like': 290, 'long': 291, 'long lasting': 292, 'long lasting protection': 293, 'made': 294, 'maintaining': 295, 'maintaining confident': 296, 'maintaining confident active': 297, 'maintaining confidently': 298, 'maintaining confidently odor': 299, 'make': 300, 'make absolute': 301, 'make absolute essential': 302, 'make daily': 303, 'make daily choice': 304, 'make daily go': 305, 'make daily necessity': 306, 'make essential': 307, 'make essential maintaining': 308, 'make go': 309, 'make go maintaining': 310, 'make trusted': 311, 'make trusted ally': 312, 'make trusted companion': 313, 'making': 314, 'making daily': 315, 'making daily beauty': 316, 'making regrettable': 317, 'max': 318, 'max refreshing': 319, 'max refreshing scent': 320, 'messy': 321, 'money': 322, 'must': 323, 'natural': 324, 'nauseating': 325, 'navigating': 326, 'navigating life': 327, 'navigating life adventure': 328, 'necessity': 329, 'necessity confidently': 330, 'necessity confidently navigating': 331, 'nightmare': 332, 'odor': 333, 'odor free': 334, 'odor free day': 335, 'odor making': 336, 'one': 337, 'one keep': 338, 'overpowering': 339, 'overpowering scent': 340, 'overpriced': 341, 'packaging': 342, 'perspiration': 343, 'perspiration making': 344, 'perspiration odor': 345, 'poorly': 346, 'power': 347, 'power keep': 348, 'power keep confidently': 349, 'product': 350, 'protection': 351, 'protection deodorant': 352, 'protection deodorant ensure': 353, 'protection deodorant make': 354, 'protection ensure': 355, 'protection ensure stay': 356, 'protection keep': 357, 'protection make': 358, 'protection make absolute': 359, 'protection make daily': 360, 'protection make essential': 361, 'protection perspiration': 362, 'protection perspiration odor': 363, 'provide': 364, 'provide effective': 365, 'provide effective protection': 366, 'provide lasting': 367, 'provide lasting freshness': 368, 'providing': 369, 'purchase': 370, 'pure': 371, 'pure joy': 372, 'pure joy every': 373, 'radiate': 374, 'radiate confidence': 375, 'radiate confidence every': 376, 'refreshing': 377, 'refreshing scent': 378, 'refreshing scent enduring': 379, 'regret': 380, 'regrettable': 381, 'reliable': 382, 'reliable protection': 383, 'reliable protection ensure': 384, 'reliable protection make': 385, 'residue': 386, 'residue failed': 387, 'ritual': 388, 'routine': 389, 'scent': 390, 'scent deodorant': 391, 'scent enduring': 392, 'scent enduring protection': 393, 'scent hour': 394, 'scent hour protection': 395, 'scent lasting': 396, 'scent lasting power': 397, 'scent long': 398, 'scent long lasting': 399, 'scent nauseating': 400, 'scent overpowering': 401, 'scent reliable': 402, 'scent reliable protection': 403, 'scent strong': 404, 'scent unbearable': 405, 'skin': 406, 'skin feeling': 407, 'skin feeling sticky': 408, 'skin irritation': 409, 'slimy': 410, 'smell': 411, 'smell awful': 412, 'smell like': 413, 'smelling': 414, 'spray': 415, 'spray deodorant': 416, 'spray deodorant delightful': 417, 'stay': 418, 'stay confidently': 419, 'stay confidently fresh': 420, 'stay fresh': 421, 'stay fresh throughout': 422, 'staying': 423, 'staying fresh': 424, 'staying fresh confident': 425, 'staying fresh confidently': 426, 'sticky': 427, 'sticky failed': 428, 'strong': 429, 'subtle': 430, 'subtle fragrance': 431, 'subtle fragrance enduring': 432, 'supposed': 433, 'sweat': 434, 'symphony': 435, 'symphony freshness': 436, 'symphony freshness deodorant': 437, 'throughout': 438, 'throughout day': 439, 'trusted': 440, 'trusted ally': 441, 'trusted ally confidently': 442, 'trusted companion': 443, 'unbearable': 444, 'unbeatable': 445, 'uncomfortable': 446, 'uncomfortable choice': 447, 'uncomfortable dissatisfied': 448, 'unmatched': 449, 'unmatched confidence': 450, 'unmatched confidence clean': 451, 'unmatched freshness': 452, 'unmatched freshness unmatched': 453, 'unpleasant': 454, 'use': 455, 'useless': 456, 'waste': 457, 'waste money': 458, 'wear': 459, 'wearing': 460, 'white': 461, 'work': 462, 'work smell': 463, 'work smell awful': 464}\n",
            "Original and cleaned reviews\n",
            "                                                                                                                                                        Review  \\\n",
            "0         This deodorant is a game-changer! The scent is refreshing, and it keeps me dry all day. A reliable choice for long-lasting freshness and confidence.   \n",
            "1        Exceptional deodorant! The fragrance is delightful, and it provides unbeatable 24-hour protection. I feel confident and odor-free throughout the day.   \n",
            "2           Fantastic deodorant! The scent is invigorating, and it effectively controls perspiration. A must-have for a day filled with freshness and comfort.   \n",
            "3    Love this deodorant! The scent is subtle, yet long-lasting. It keeps me feeling fresh and confident, delivering on its promise of effective odor control.   \n",
            "4  Incredible deodorant choice! The scent is energizing, and it provides reliable protection. I stay dry and fresh, making it my go-to for all-day confidence.   \n",
            "\n",
            "                                                                                                                            cleaned_TEXT  \n",
            "0                  [deodorant, game, changer, scent, refreshing, keep, dry, day, reliable, choice, long, lasting, freshness, confidence]  \n",
            "1  [exceptional, deodorant, fragrance, delightful, provides, unbeatable, hour, protection, feel, confident, odor, free, throughout, day]  \n",
            "2                 [fantastic, deodorant, scent, invigorating, effectively, control, perspiration, must, day, filled, freshness, comfort]  \n",
            "3   [love, deodorant, scent, subtle, yet, long, lasting, keep, feeling, fresh, confident, delivering, promise, effective, odor, control]  \n",
            "4      [incredible, deodorant, choice, scent, energizing, provides, reliable, protection, stay, dry, fresh, making, go, day, confidence]  \n"
          ]
        }
      ]
    }
  ]
}